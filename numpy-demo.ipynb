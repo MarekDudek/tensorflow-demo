{
 "cells": [
  {
   "cell_type": "code",
   "metadata": {
    "collapsed": true,
    "pycharm": {
     "is_executing": false,
     "name": "#%% \n"
    }
   },
   "source": [
    "import numpy as np\n",
    "import matplotlib.pyplot as plt"
   ],
   "execution_count": 81,
   "outputs": []
  },
  {
   "cell_type": "markdown",
   "source": [
    "Anscombe's quartet"
   ],
   "metadata": {
    "collapsed": false,
    "pycharm": {
     "name": "#%% md\n"
    }
   }
  },
  {
   "cell_type": "code",
   "execution_count": 82,
   "outputs": [],
   "source": [
    "anscombe_1 = np.array(\n",
    "    [[10.0, 8.04], [8.0, 6.95], [13.0, 7.58], [9.0, 8.81], [11.0, 8.33], \n",
    "     [14.0, 9.96], [6.0, 7.24], [4.0, 4.26], [12.0, 10.84], [7.0, 4.82], [5.0, 5.68]])\n",
    "anscombe_2 = np.array(\n",
    "    [[10.0,\t9.14], [8.0, 8.14], [13.0, 8.74], [9.0,\t8.77], [11.0, 9.26], \n",
    "     [14.0,\t8.10], [6.0, 6.13], [4.0, 3.10], [12.0,\t9.13], [7.0, 7.26], [5.0, 4.74]])\n",
    "anscombe_3 = np.array(\n",
    "    [[10.0,\t7.46], [8.0, 6.77], [13.0, 12.74], [9.0, 7.11], [11.0, 7.81], \n",
    "     [14.0,\t8.84], [6.0, 6.08], [4.0, 5.39], [12.0,\t8.15], [7.0, 6.42], [5.0, 5.73]])\n",
    "anscombe_4 = np.array(\n",
    "    [[8.0, 6.58], [8.0, 5.76], [8.0, 7.71], [8.0, 8.84], [8.0, 8.47], \n",
    "     [8.0, 7.04], [8.0, 5.25], [19.0, 12.50], [8.0,\t5.56], [8.0, 7.91], [8.0, 6.89]])"
   ],
   "metadata": {
    "collapsed": false,
    "pycharm": {
     "name": "#%%\n",
     "is_executing": false
    }
   }
  },
  {
   "cell_type": "markdown",
   "source": [
    "# Plots"
   ],
   "metadata": {
    "collapsed": false,
    "pycharm": {
     "name": "#%% md\n"
    }
   }
  },
  {
   "cell_type": "code",
   "execution_count": 87,
   "outputs": [
    {
     "data": {
      "text/plain": "<Figure size 432x288 with 0 Axes>"
     },
     "metadata": {},
     "output_type": "display_data"
    },
    {
     "data": {
      "text/plain": "<Figure size 432x288 with 4 Axes>",
      "image/png": "[encoded data removed]"
     },
     "metadata": {
      "needs_background": "light"
     },
     "output_type": "display_data"
    }
   ],
   "source": [
    "fig = plt.figure()\n",
    "fig.suptitle(\"Anscombe's quartet\")\n",
    "fig, [[tl, tr], [bl, br]] = plt.subplots(2, 2)\n",
    "tl.plot(anscombe_1, marker='.', linestyle='')\n",
    "tr.plot(anscombe_2, marker='o', linestyle='')\n",
    "bl.plot(anscombe_3, marker='x', linestyle='')\n",
    "br.plot(anscombe_4, marker='+', linestyle='')\n",
    "#plt.axis([0, 20, 0, 14])\n",
    "plt.show()"
   ],
   "metadata": {
    "collapsed": false,
    "pycharm": {
     "name": "#%%\n",
     "is_executing": false
    }
   }
  },
  {
   "cell_type": "code",
   "execution_count": 83,
   "outputs": [],
   "source": [],
   "metadata": {
    "collapsed": false,
    "pycharm": {
     "name": "#%% \n",
     "is_executing": false
    }
   }
  }
 ],
 "metadata": {
  "kernelspec": {
   "display_name": "Python 3",
   "language": "python",
   "name": "python3"
  },
  "language_info": {
   "codemirror_mode": {
    "name": "ipython",
    "version": 2
   },
   "file_extension": ".py",
   "mimetype": "text/x-python",
   "name": "python",
   "nbconvert_exporter": "python",
   "pygments_lexer": "ipython2",
   "version": "2.7.6"
  },
  "pycharm": {
   "stem_cell": {
    "cell_type": "raw",
    "source": [],
    "metadata": {
     "collapsed": false
    }
   }
  }
 },
 "nbformat": 4,
 "nbformat_minor": 0
}