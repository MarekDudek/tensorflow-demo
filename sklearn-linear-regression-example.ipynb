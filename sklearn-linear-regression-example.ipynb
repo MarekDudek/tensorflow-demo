{
 "cells": [
  {
   "cell_type": "markdown",
   "source": [
    "Linear regression with SK Learn"
   ],
   "metadata": {
    "collapsed": false,
    "pycharm": {
     "name": "#%% md\n"
    }
   }
  },
  {
   "cell_type": "code",
   "execution_count": 29,
   "metadata": {
    "collapsed": true,
    "pycharm": {
     "is_executing": false
    }
   },
   "outputs": [
    {
     "name": "stdout",
     "text": [
      "Score: 1.0\n",
      "Coefficients: [1. 2.]\n",
      "Intercept: 3.000000000000001\n",
      "Prediction(3, 5): [16.]\n"
     ],
     "output_type": "stream"
    }
   ],
   "source": [
    "import numpy as np\n",
    "from sklearn.linear_model import LinearRegression\n",
    "\n",
    "x = np.array([[1, 1], [1, 2], [2, 2], [2, 3]])\n",
    "y = np.dot(x, np.array([1, 2])) + 3\n",
    "\n",
    "reg = LinearRegression().fit(x, y)\n",
    "\n",
    "print(f'Score: {reg.score(x, y)}')\n",
    "\n",
    "print(f'Coefficients: {reg.coef_}')\n",
    "print(f'Intercept: {reg.intercept_}')\n",
    "\n",
    "prediction = reg.predict(np.array([[3, 5]]))\n",
    "print(f'Prediction(3, 5): {prediction}')"
   ]
  },
  {
   "cell_type": "markdown",
   "source": [
    "Linear regression on Anscombe's quartet "
   ],
   "metadata": {
    "collapsed": false
   }
  },
  {
   "cell_type": "code",
   "execution_count": null,
   "outputs": [],
   "source": [],
   "metadata": {
    "collapsed": false,
    "pycharm": {
     "name": "#%%\n"
    }
   }
  }
 ],
 "metadata": {
  "kernelspec": {
   "display_name": "Python 3",
   "language": "python",
   "name": "python3"
  },
  "language_info": {
   "codemirror_mode": {
    "name": "ipython",
    "version": 2
   },
   "file_extension": ".py",
   "mimetype": "text/x-python",
   "name": "python",
   "nbconvert_exporter": "python",
   "pygments_lexer": "ipython2",
   "version": "2.7.6"
  },
  "pycharm": {
   "stem_cell": {
    "cell_type": "raw",
    "source": [],
    "metadata": {
     "collapsed": false
    }
   }
  }
 },
 "nbformat": 4,
 "nbformat_minor": 0
}